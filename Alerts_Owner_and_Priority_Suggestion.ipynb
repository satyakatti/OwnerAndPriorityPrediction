{
 "cells": [
  {
   "cell_type": "code",
   "execution_count": 1,
   "metadata": {},
   "outputs": [],
   "source": [
    "from time import time\n",
    "import pandas as pd\n",
    "import numpy as np\n",
    "import seaborn as sns\n",
    "import matplotlib.pyplot as plt\n",
    "\n",
    "from sklearn.preprocessing import MinMaxScaler\n",
    "from sklearn.preprocessing import LabelEncoder\n",
    "from sklearn.preprocessing import OneHotEncoder\n",
    "\n",
    "from sklearn.model_selection import cross_val_score\n",
    "from sklearn.model_selection import learning_curve\n",
    "from sklearn.model_selection import train_test_split\n",
    "from sklearn.model_selection import GridSearchCV\n",
    "from sklearn.model_selection import KFold\n",
    "from sklearn.model_selection import StratifiedKFold\n",
    "\n",
    "from sklearn.linear_model import LinearRegression\n",
    "\n",
    "from sklearn.ensemble import RandomForestClassifier\n",
    "from sklearn.ensemble import AdaBoostClassifier\n",
    "from sklearn.ensemble import GradientBoostingClassifier\n",
    "from sklearn.ensemble import ExtraTreesClassifier\n",
    "\n",
    "from sklearn.neighbors import KNeighborsClassifier\n",
    "\n",
    "from sklearn.tree import DecisionTreeClassifier\n",
    "\n",
    "from sklearn.decomposition import PCA\n",
    "\n",
    "from sklearn.metrics import confusion_matrix\n",
    "\n",
    "%matplotlib inline"
   ]
  },
  {
   "cell_type": "code",
   "execution_count": 2,
   "metadata": {},
   "outputs": [
    {
     "name": "stderr",
     "output_type": "stream",
     "text": [
      "D:\\Tools\\Anaconda\\lib\\site-packages\\IPython\\core\\interactiveshell.py:2717: DtypeWarning: Columns (12,96,98,120,123,234,253,357,367,372,375,550,604,631) have mixed types. Specify dtype option on import or set low_memory=False.\n",
      "  interactivity=interactivity, compiler=compiler, result=result)\n"
     ]
    },
    {
     "data": {
      "text/plain": [
       "(100000, 640)"
      ]
     },
     "execution_count": 2,
     "metadata": {},
     "output_type": "execute_result"
    }
   ],
   "source": [
    "#Read all the alerts from file\n",
    "\n",
    "alerts = pd.read_csv('alerts.csv')\n",
    "alerts.shape"
   ]
  },
  {
   "cell_type": "code",
   "execution_count": 3,
   "metadata": {},
   "outputs": [],
   "source": [
    "#alerts.info(verbose=True)"
   ]
  },
  {
   "cell_type": "code",
   "execution_count": 4,
   "metadata": {
    "collapsed": true
   },
   "outputs": [],
   "source": [
    "#These are the interested alerts fields.\n",
    "\n",
    "alert_fields = ['pn', 'rv81', 'evt', 'sev', 'sun', 'dun', 'iuid', 'tuid', 'iufname', 'tufname', \\\n",
    "                'ttn', 'ttd', 'priority', 'vul', 'sip', 'dip', 'shn', 'dhn', 'sp', 'dp', 'polid', \\\n",
    "                'prot', 'fn', 'rv36', 'tds', 'owner', 'rv29', 'rv30', 'shts', 'thts', 'rv198', 'rv199', \\\n",
    "                'voc', 'xdastaxname', 'xdasoutcomename']"
   ]
  },
  {
   "cell_type": "code",
   "execution_count": 5,
   "metadata": {},
   "outputs": [],
   "source": [
    "#Reconstruct the alerts with only interested fields and discard other fields.\n",
    "\n",
    "alerts = alerts[alert_fields]\n",
    "#alerts.head(3)"
   ]
  },
  {
   "cell_type": "code",
   "execution_count": 6,
   "metadata": {
    "collapsed": true
   },
   "outputs": [],
   "source": [
    "#As I know most of the interested field are NaN, lets fill them with specific values.\n",
    "#Also here it is not completely randomized as the values are mapped\n",
    "\n",
    "specific_alert_vals = {\n",
    "    '101': {\n",
    "        'sev': [0, 2, 4],\n",
    "        'priority': [20, 50],\n",
    "        'vul': [0, 1],\n",
    "        'pn': ['Internal', 'Palo Alto Networks', 'NetIQ Universal Event'], \n",
    "        'rv81': ['server', 'laptop'],\n",
    "        'sun': ['system', 'admin'],\n",
    "        'dun': ['internal', 'pci-admin'],\n",
    "        'sip': ['1.0.10.245', '223.113.70.63', '10.84.130.59'],\n",
    "        'dip': ['10.3.4.51', '10.84.11.14'],\n",
    "        'shn': ['PERFCDH6', 'Sentinel-Dev-33', 'PERF-SENTINEL'],\n",
    "        'dhn': ['SOC-LAB-IPV6', 'HostD-03-oracle.com', 'HostD-03-oracle.com'],\n",
    "        'sp': ['security', 'Windows 7'],\n",
    "        'dp': ['ASA'],\n",
    "        'prot': ['tcp', 'udp'],\n",
    "        'rv36': ['SentinelRESTServices/objects/alert-search', 'SentinelRESTServices/objects/search-terms'],\n",
    "        'rv29': ['in', 'cn'],\n",
    "        'rv30': ['us', 'it'],\n",
    "        'xdastaxname': ['XDAS_AE_CREATE_DATA_ITEM_ASSOC', 'XDAS_AE_QUERY_ACCOUNT'],\n",
    "        'xdasoutcomename': ['XDAS_OUT_THRESHOLD_EXCEEDED', 'XDAS_OUT_SUCCESS']\n",
    "    },\n",
    "    '102': {\n",
    "        'sev': [1, 3, 4],\n",
    "        'priority': [80, 100],\n",
    "        'vul': [0, 1],\n",
    "        'pn': ['Juniper Netscreen Series', 'Cisco Firewall', 'Damballa Failsafe'], \n",
    "        'rv81': ['desktop', 'blade server'],\n",
    "        'sun': ['internal', 'pci-admin'],\n",
    "        'dun': ['system', 'admin'],\n",
    "        'sip': ['164.99.209.149', '164.99.175.32'],\n",
    "        'dip': ['223.255.254.144', '164.99.175.21', '164.99.175.12'],\n",
    "        'shn': ['ATL-S-0134294', 'ind-ksatyajit'],\n",
    "        'dhn': ['HostD-03-oracle.com', 'hoste-01-windows'],\n",
    "        'sp': ['Windows 7'],\n",
    "        'dp': ['ThisIsAnOS'],\n",
    "        'prot': ['http', 'https'],\n",
    "        'rv36': ['SentinelRESTServices/objects/alert', 'SentinelRESTServices/objects/event-search'],\n",
    "        'rv29': ['de'],\n",
    "        'rv30': ['fr', 'jp'],\n",
    "        'xdastaxname': ['XDAS_AE_TERMINATE_PEER_ASSOC', 'XDAS_AE_QUERY_DATA_ITEM_CONTENTS'],\n",
    "        'xdasoutcomename': ['XDAS_OUT_FAILURE', 'XDAS_OUT_PRIV_USED']\n",
    "\n",
    "    },\n",
    "    '103': {\n",
    "        'sev': [1, 2, 3],\n",
    "        'priority': [0, 20],\n",
    "        'vul': [0, 1],\n",
    "        'pn': ['Fortinet FortiGate', 'NetIQ Agent Manager'], \n",
    "        'rv81': ['switch', 'router', 'rack'],\n",
    "        'sun': ['service', 'sentinel'],\n",
    "        'dun': ['pci-admin', 'service'],\n",
    "        'sip': ['164.99.211.70', '1.0.76.179'],\n",
    "        'dip': ['164.99.175.41', '23.76.204.168'],\n",
    "        'shn': ['stl303', 'stl315', 'FW-RedebanWEB'],\n",
    "        'dhn': ['Sentinel-Dev-06'],\n",
    "        'sp': ['ASA', 'ThisIsAnOS'],\n",
    "        'dp': ['dns', 'Windows 7'],\n",
    "        'prot': ['ftp'],\n",
    "        'rv36': ['SentinelRESTServices/objects/event-source-server'],\n",
    "        'rv29': ['us'],\n",
    "        'rv30': ['uk'],\n",
    "        'xdastaxname': ['XDAS_AE_DELETE_ACCOUNT', 'XDAS_AE_MODIFY_DATA_ITEM_CONTENTS'],\n",
    "        'xdasoutcomename': ['XDAS_OUT_SERVICE_UNAVAILABLE', 'XDAS_OUT_HARDWARE_FAILURE', 'XDAS_OUT_DISABLED']\n",
    "    },\n",
    "    'A05EF710-5CBE-102E-BEFC-0019D131A0F3': {\n",
    "        'sev': [2, 3, 4, 5],\n",
    "        'priority': [20, 50],\n",
    "        'vul': [0, 1],\n",
    "        'pn': ['Damballa Failsafe', 'Fortinet FortiGate'], \n",
    "        'rv81': ['blade server', 'switch'],\n",
    "        'sun': ['pci-admin', 'service'],\n",
    "        'dun': ['service', 'sentinel'],\n",
    "        'sip': ['1.0.54.201', '1.0.62.233', '10.184.70.34'],\n",
    "        'dip': ['164.99.175.227'],\n",
    "        'shn': ['ZF-RCM-41', 'test19390'],\n",
    "        'dhn': ['adarshiso', 'netflow1'],\n",
    "        'sp': ['dns'],\n",
    "        'dp': ['security', 'ASA'],\n",
    "        'prot': ['smtp', 'dns'],\n",
    "        'rv36': ['SentinelRESTServices/objects/corr-rule', 'SentinelRESTServices/objects/event-action'],\n",
    "        'rv29': ['cn', 'de'],\n",
    "        'rv30': ['it', 'fr'],\n",
    "        'xdastaxname': ['XDAS_AE_SHUTDOWN_SYS', 'XDAS_AE_BACKUP_DATASTORE', 'XDAS_AE_IDS_PENETRATE'],\n",
    "        'xdasoutcomename': ['XDAS_OUT_DENIAL', 'XDAS_OUT_EXPIRED']\n",
    "    },\n",
    "    'B96F6E09-4DAF-293F-AFEE-B108C842B9E7': {\n",
    "        'sev': [2, 5],\n",
    "        'priority': [50, 100],\n",
    "        'vul': [0, 1],\n",
    "        'pn': ['NetIQ Universal Event', 'Juniper Netscreen Series'], \n",
    "        'rv81': ['laptop', 'desktop'],\n",
    "        'sun': ['admin', 'internal'],\n",
    "        'dun': ['internal', 'pci-admin'],\n",
    "        'sip': ['1.0.76.179', '1.0.54.201'],\n",
    "        'dip': ['164.99.175.153', '164.99.175.174'],\n",
    "        'shn': ['FW-RedebanWEB'],\n",
    "        'dhn': ['stl311', 'stl314'],\n",
    "        'sp': ['ThisIsAnOS', 'dns'],\n",
    "        'dp': ['Windows 7', 'ASA'],\n",
    "        'prot': ['SPX'],\n",
    "        'rv36': ['SentinelRESTServices/objects/ssdm', 'SentinelRESTServices/objects/collector'],\n",
    "        'rv29': ['de', 'us'],\n",
    "        'rv30': ['jp', 'uk'],\n",
    "        'xdastaxname': ['XDAS_AE_CLEANED', 'XDAS_AE_IDS_SUSPICIOUS', 'XDAS_AE_INFECTED_WORM'],\n",
    "        'xdasoutcomename': ['XDAS_OUT_UNKNOWN', 'XDAS_OUT_INSUFFICIENT_INPUT', 'XDAS_OUT_ENTITY_EXISTS']\n",
    "    }\n",
    "}\n",
    "\n",
    "def fillSpecificVals():\n",
    "    step = 20000\n",
    "    i = 1\n",
    "\n",
    "    for user, vals in specific_alert_vals.items():\n",
    "        alerts.loc[np.arange((i-1)*step, i*step), 'owner'] = user\n",
    "\n",
    "        for attr, val in vals.items():\n",
    "            alerts.loc[np.arange((i-1)*step, i*step), attr] = np.random.choice(val, step)\n",
    "\n",
    "        i += 1\n"
   ]
  },
  {
   "cell_type": "code",
   "execution_count": 7,
   "metadata": {},
   "outputs": [],
   "source": [
    "#As I know most of the interested field are NaN, lets fill them.\n",
    "#Here Keep a map of list of values the field can take and randomly fill the alerts with one of values from list\n",
    "\n",
    "def fillRandomVals():\n",
    "    pn_vals = ['Internal', 'Palo Alto Networks', 'NetIQ Universal Event', 'Juniper Netscreen Series', \\\n",
    "               'Cisco Firewall', 'Damballa Failsafe', 'Fortinet FortiGate', 'NetIQ Agent Manager']\n",
    "    alerts['pn'] = np.random.choice(pn_vals, alerts.shape[0])\n",
    "\n",
    "    rv81_vals = ['server', 'laptop', 'desktop', 'blade server', 'switch', 'router', 'rack']\n",
    "    alerts['rv81'] = np.random.choice(rv81_vals, alerts.shape[0])\n",
    "\n",
    "    sev_vals = [0, 1, 2, 3, 4, 5]\n",
    "    alerts['sev'] = np.random.choice(sev_vals, alerts.shape[0])\n",
    "\n",
    "    sun_vals = dun_vals = ['system', 'admin', 'internal', 'pci-admin', 'service', 'sentinel']\n",
    "    alerts['sun'] = np.random.choice(sun_vals, alerts.shape[0])\n",
    "    alerts['dun'] = np.random.choice(dun_vals, alerts.shape[0])\n",
    "\n",
    "    priority_vals = [0, 20, 50, 80, 100]\n",
    "    alerts['priority'] = np.random.choice(priority_vals, alerts.shape[0])\n",
    "\n",
    "    vul_vals = [0, 1]\n",
    "    alerts['vul'] = np.random.choice(vul_vals, alerts.shape[0])\n",
    "\n",
    "    sip_vals = dip_vals = ['1.0.10.245', '223.113.70.63', '10.84.130.59', '164.99.209.149', '164.99.175.32', \\\n",
    "                           '164.99.211.70', '1.0.76.179', '1.0.54.201', '1.0.62.233', '10.184.70.34' \\\n",
    "                           '10.3.4.51', '10.84.11.14', '223.255.254.144', '164.99.175.21', '164.99.175.12', \\\n",
    "                           '164.99.175.41', '23.76.204.168']\n",
    "    alerts['sip'] = np.random.choice(sip_vals, alerts.shape[0])\n",
    "    alerts['dip'] = np.random.choice(dip_vals, alerts.shape[0])\n",
    "\n",
    "    shn_vals = dhn_vals = ['PERFCDH6', 'Sentinel-Dev-33', 'PERF-SENTINEL', 'ATL-S-0134294', 'ind-ksatyajit', \\\n",
    "                           'FW-RedebanWEB' 'ZF-RCM-41', 'test19390', 'SOC-LAB-IPV6', 'HostD-03-oracle.com', \\\n",
    "                           'HostD-03-oracle.com', 'hoste-01-windows']\n",
    "    alerts['shn'] = np.random.choice(shn_vals, alerts.shape[0])\n",
    "    alerts['dhn'] = np.random.choice(dhn_vals, alerts.shape[0])\n",
    "\n",
    "    sp_vals = dp_vals = ['security', 'Windows 7', 'ASA', 'ThisIsAnOS', 'dns']\n",
    "    alerts['sp'] = np.random.choice(sp_vals, alerts.shape[0])\n",
    "    alerts['dp'] = np.random.choice(dp_vals, alerts.shape[0])\n",
    "\n",
    "    prot_vals = ['tcp', 'udp', 'http', 'https', 'ftp', 'smtp', 'dns', 'SPX']\n",
    "    alerts['prot'] = np.random.choice(prot_vals, alerts.shape[0])\n",
    "\n",
    "    fn_vals = ['Global Setup', 'Dashboard Status',  'F2107BD0-053D-102D-96EB-001C251476ED']\n",
    "    alerts['fn'] = np.random.choice(fn_vals, alerts.shape[0])\n",
    "\n",
    "    rv36_vals = ['SentinelRESTServices/objects/alert-search', 'SentinelRESTServices/objects/search-terms', \\\n",
    "                 'SentinelRESTServices/objects/event-search', 'SentinelRESTServices/objects/event-source-server', \\\n",
    "                 'SentinelRESTServices/objects/corr-rule', 'SentinelRESTServices/objects/event-action']\n",
    "    alerts['rv36'] = np.random.choice(rv36_vals, alerts.shape[0])\n",
    "\n",
    "    tds_vals = [0, 10, 12, 15, 20, 100]\n",
    "    alerts['tds'] = np.random.choice(tds_vals, alerts.shape[0])\n",
    "\n",
    "    owner_vals = ['1', 'A05EF710-5CBE-102E-BEFC-0019D131A0F3', 'B96F6E09-4DAF-293F-AFEE-B108C842B9E7', '101', '102', \\\n",
    "                  '103', '104', 'A05EF710-5CBE-102E-BEF7-0019D131A0F3', '6E1CCA33-4BD4-102D-B37F-000C2907C76D']\n",
    "    alerts['owner'] = np.random.choice(owner_vals, alerts.shape[0])\n",
    "\n",
    "    rv29_vals = rv30_vals = ['in', 'cn', 'de', 'us', 'it', 'fr', 'jp']\n",
    "    alerts['rv29'] = np.random.choice(rv29_vals, alerts.shape[0])\n",
    "    alerts['rv30'] = np.random.choice(rv30_vals, alerts.shape[0])\n",
    "\n",
    "    xdastaxname_vals = ['XDAS_AE_TERMINATE_PEER_ASSOC', 'XDAS_AE_QUERY_DATA_ITEM_CONTENTS', \\\n",
    "                        'XDAS_AE_CREATE_DATA_ITEM_ASSOC', 'XDAS_AE_QUERY_ACCOUNT', 'XDAS_AE_DELETE_ACCOUNT', \\\n",
    "                        'XDAS_AE_MODIFY_DATA_ITEM_CONTENTS', 'XDAS_AE_SHUTDOWN_SYS', 'XDAS_AE_BACKUP_DATASTORE', \\\n",
    "                        'XDAS_AE_IDS_PENETRATE', 'XDAS_AE_CLEANED', 'XDAS_AE_IDS_SUSPICIOUS', 'XDAS_AE_INFECTED_WORM']\n",
    "    alerts['xdastaxname'] = np.random.choice(xdastaxname_vals, alerts.shape[0])\n",
    "\n",
    "    xdasoutcomename_vals = ['XDAS_OUT_THRESHOLD_EXCEEDED', 'XDAS_OUT_SUCCESS', 'XDAS_OUT_FAILURE', \\\n",
    "                                       'XDAS_OUT_PRIV_USED', 'XDAS_OUT_SERVICE_UNAVAILABLE', 'XDAS_OUT_HARDWARE_FAILURE', \\\n",
    "                                       'XDAS_OUT_DISABLED', 'XDAS_OUT_DENIAL', 'XDAS_OUT_EXPIRED']\n",
    "    alerts['xdasoutcomename'] = np.random.choice(xdasoutcomename_vals, alerts.shape[0])\n"
   ]
  },
  {
   "cell_type": "code",
   "execution_count": 8,
   "metadata": {},
   "outputs": [],
   "source": [
    "#Not always We get 100% of the data. \n",
    "#To simulate the reality, assign some random values to NaN in every column.\n",
    "#I know sev and priority are always present, this is just a simulation.\n",
    "\n",
    "def simulateNulls():\n",
    "    cols_to_null = ['sev', 'priority', 'sun', 'dun']\n",
    "    for col in cols_to_null:\n",
    "        alerts.loc[np.random.randint(alerts.shape[0], size=3000), col] = np.NaN"
   ]
  },
  {
   "cell_type": "code",
   "execution_count": 9,
   "metadata": {
    "collapsed": true
   },
   "outputs": [],
   "source": [
    "#Name is sufficient to explain\n",
    "\n",
    "def convertToLower():\n",
    "    for col in alerts.columns:\n",
    "        if alerts[col].dtype == np.object:\n",
    "            alerts[col] = alerts[col].str.lower()"
   ]
  },
  {
   "cell_type": "code",
   "execution_count": 10,
   "metadata": {
    "collapsed": true
   },
   "outputs": [],
   "source": [
    "#Cleaning rv36, keep only last segment of 'SentinelRESTServices/objects/event-source-server'\n",
    "\n",
    "def cleanRv36():\n",
    "    alerts['rv36'] = alerts['rv36'].str.split('/')\n",
    "    alerts['rv36'] = [val[len(val)-1] if isinstance(val, list) else val for val in alerts['rv36']]"
   ]
  },
  {
   "cell_type": "code",
   "execution_count": 11,
   "metadata": {
    "collapsed": true
   },
   "outputs": [],
   "source": [
    "#Filling NaN in Vul\n",
    "\n",
    "def fillVul():\n",
    "    if alerts['vul'].isnull().sum() > 0:\n",
    "        alerts['vul'].fillna(alerts['vul'].min(), inplace=True)"
   ]
  },
  {
   "cell_type": "code",
   "execution_count": 12,
   "metadata": {
    "collapsed": true
   },
   "outputs": [],
   "source": [
    "#From here onwrds begins\n",
    "    #Data generation\n",
    "    #Data cleaning\n",
    "    #Filling NaN\n",
    "\n",
    "fillSpecificVals()\n",
    "#fillRandomVals()\n",
    "\n",
    "simulateNulls()\n",
    "convertToLower()\n",
    "\n",
    "cleanRv36()\n",
    "fillVul()"
   ]
  },
  {
   "cell_type": "code",
   "execution_count": 13,
   "metadata": {
    "collapsed": true
   },
   "outputs": [],
   "source": [
    "#As evt is more of a arbitrary string and does not add value, lets drop the column\n",
    "\n",
    "if 'evt' in alerts.columns:\n",
    "    alerts.drop(['evt'], axis=1, inplace=True)"
   ]
  },
  {
   "cell_type": "code",
   "execution_count": 14,
   "metadata": {},
   "outputs": [
    {
     "data": {
      "text/plain": [
       "pn                   0.000\n",
       "rv81                 0.000\n",
       "sev                  2.952\n",
       "sun                  2.961\n",
       "dun                  2.955\n",
       "iuid                99.999\n",
       "tuid               100.000\n",
       "iufname            100.000\n",
       "tufname            100.000\n",
       "ttn                100.000\n",
       "ttd                100.000\n",
       "priority             2.960\n",
       "vul                  0.000\n",
       "sip                  0.000\n",
       "dip                  0.000\n",
       "shn                  0.000\n",
       "dhn                  0.000\n",
       "sp                   0.000\n",
       "dp                   0.000\n",
       "polid              100.000\n",
       "prot                 0.000\n",
       "fn                 100.000\n",
       "rv36                 0.000\n",
       "tds                100.000\n",
       "owner                0.000\n",
       "rv29                 0.000\n",
       "rv30                 0.000\n",
       "shts               100.000\n",
       "thts               100.000\n",
       "rv198              100.000\n",
       "rv199              100.000\n",
       "voc                100.000\n",
       "xdastaxname          0.000\n",
       "xdasoutcomename      0.000\n",
       "dtype: float64"
      ]
     },
     "execution_count": 14,
     "metadata": {},
     "output_type": "execute_result"
    }
   ],
   "source": [
    "#So Let me check how many columns contain null values and what is the precentage of null in each column\n",
    "\n",
    "alerts.isnull().sum()/alerts.shape[0]*100"
   ]
  },
  {
   "cell_type": "code",
   "execution_count": 15,
   "metadata": {},
   "outputs": [
    {
     "data": {
      "text/html": [
       "<div>\n",
       "<table border=\"1\" class=\"dataframe\">\n",
       "  <thead>\n",
       "    <tr style=\"text-align: right;\">\n",
       "      <th></th>\n",
       "      <th>pn</th>\n",
       "      <th>rv81</th>\n",
       "      <th>sev</th>\n",
       "      <th>sun</th>\n",
       "      <th>dun</th>\n",
       "      <th>priority</th>\n",
       "      <th>vul</th>\n",
       "      <th>sip</th>\n",
       "      <th>dip</th>\n",
       "      <th>shn</th>\n",
       "      <th>dhn</th>\n",
       "      <th>sp</th>\n",
       "      <th>dp</th>\n",
       "      <th>prot</th>\n",
       "      <th>rv36</th>\n",
       "      <th>owner</th>\n",
       "      <th>rv29</th>\n",
       "      <th>rv30</th>\n",
       "      <th>xdastaxname</th>\n",
       "      <th>xdasoutcomename</th>\n",
       "    </tr>\n",
       "  </thead>\n",
       "  <tbody>\n",
       "    <tr>\n",
       "      <th>0</th>\n",
       "      <td>internal</td>\n",
       "      <td>server</td>\n",
       "      <td>0.0</td>\n",
       "      <td>NaN</td>\n",
       "      <td>internal</td>\n",
       "      <td>NaN</td>\n",
       "      <td>0</td>\n",
       "      <td>223.113.70.63</td>\n",
       "      <td>10.3.4.51</td>\n",
       "      <td>perf-sentinel</td>\n",
       "      <td>hostd-03-oracle.com</td>\n",
       "      <td>security</td>\n",
       "      <td>asa</td>\n",
       "      <td>tcp</td>\n",
       "      <td>search-terms</td>\n",
       "      <td>101</td>\n",
       "      <td>in</td>\n",
       "      <td>us</td>\n",
       "      <td>xdas_ae_create_data_item_assoc</td>\n",
       "      <td>xdas_out_success</td>\n",
       "    </tr>\n",
       "    <tr>\n",
       "      <th>1</th>\n",
       "      <td>netiq universal event</td>\n",
       "      <td>laptop</td>\n",
       "      <td>4.0</td>\n",
       "      <td>system</td>\n",
       "      <td>internal</td>\n",
       "      <td>50.0</td>\n",
       "      <td>1</td>\n",
       "      <td>223.113.70.63</td>\n",
       "      <td>10.3.4.51</td>\n",
       "      <td>sentinel-dev-33</td>\n",
       "      <td>hostd-03-oracle.com</td>\n",
       "      <td>security</td>\n",
       "      <td>asa</td>\n",
       "      <td>udp</td>\n",
       "      <td>search-terms</td>\n",
       "      <td>101</td>\n",
       "      <td>in</td>\n",
       "      <td>it</td>\n",
       "      <td>xdas_ae_create_data_item_assoc</td>\n",
       "      <td>xdas_out_threshold_exceeded</td>\n",
       "    </tr>\n",
       "    <tr>\n",
       "      <th>2</th>\n",
       "      <td>netiq universal event</td>\n",
       "      <td>laptop</td>\n",
       "      <td>4.0</td>\n",
       "      <td>system</td>\n",
       "      <td>internal</td>\n",
       "      <td>50.0</td>\n",
       "      <td>1</td>\n",
       "      <td>10.84.130.59</td>\n",
       "      <td>10.84.11.14</td>\n",
       "      <td>perfcdh6</td>\n",
       "      <td>hostd-03-oracle.com</td>\n",
       "      <td>windows 7</td>\n",
       "      <td>asa</td>\n",
       "      <td>tcp</td>\n",
       "      <td>alert-search</td>\n",
       "      <td>101</td>\n",
       "      <td>cn</td>\n",
       "      <td>it</td>\n",
       "      <td>xdas_ae_query_account</td>\n",
       "      <td>xdas_out_threshold_exceeded</td>\n",
       "    </tr>\n",
       "  </tbody>\n",
       "</table>\n",
       "</div>"
      ],
      "text/plain": [
       "                      pn    rv81  sev     sun       dun  priority  vul  \\\n",
       "0               internal  server  0.0     NaN  internal       NaN    0   \n",
       "1  netiq universal event  laptop  4.0  system  internal      50.0    1   \n",
       "2  netiq universal event  laptop  4.0  system  internal      50.0    1   \n",
       "\n",
       "             sip          dip              shn                  dhn  \\\n",
       "0  223.113.70.63    10.3.4.51    perf-sentinel  hostd-03-oracle.com   \n",
       "1  223.113.70.63    10.3.4.51  sentinel-dev-33  hostd-03-oracle.com   \n",
       "2   10.84.130.59  10.84.11.14         perfcdh6  hostd-03-oracle.com   \n",
       "\n",
       "          sp   dp prot          rv36 owner rv29 rv30  \\\n",
       "0   security  asa  tcp  search-terms   101   in   us   \n",
       "1   security  asa  udp  search-terms   101   in   it   \n",
       "2  windows 7  asa  tcp  alert-search   101   cn   it   \n",
       "\n",
       "                      xdastaxname              xdasoutcomename  \n",
       "0  xdas_ae_create_data_item_assoc             xdas_out_success  \n",
       "1  xdas_ae_create_data_item_assoc  xdas_out_threshold_exceeded  \n",
       "2           xdas_ae_query_account  xdas_out_threshold_exceeded  "
      ]
     },
     "execution_count": 15,
     "metadata": {},
     "output_type": "execute_result"
    }
   ],
   "source": [
    "#Lets keep a threshold of 90%. Whichever column has 90% nulls, drop them as they may not add any value.\n",
    "\n",
    "valid_cols = [col for col in alerts.columns if (alerts[col].isnull().sum()/alerts.shape[0]*100 < 90)]\n",
    "alerts = alerts[valid_cols]\n",
    "alerts.head(3)"
   ]
  },
  {
   "cell_type": "code",
   "execution_count": 16,
   "metadata": {},
   "outputs": [
    {
     "data": {
      "text/plain": [
       "'\\nGroup all xdastaxname without the actual operation in the name.\\n    i.e XDAS_AE_CREATE_ACCOUNT, XDAS_AE_DELETE_ACCOUNT, XDAS_AE_DISABLE_ACCOUNT etc all belong to ACCOUNT type.\\n    So clean the taxonomy name\\n'"
      ]
     },
     "execution_count": 16,
     "metadata": {},
     "output_type": "execute_result"
    }
   ],
   "source": [
    "'''\n",
    "Group all xdastaxname without the actual operation in the name.\n",
    "    i.e XDAS_AE_CREATE_ACCOUNT, XDAS_AE_DELETE_ACCOUNT, XDAS_AE_DISABLE_ACCOUNT etc all belong to ACCOUNT type.\n",
    "    So clean the taxonomy name\n",
    "'''\n",
    "\n",
    "#alerts['xdastaxname_new'] = alerts['xdastaxname'].str.strip('XDAS_AE_')\n",
    "#alerts['xdastaxname_new']"
   ]
  },
  {
   "cell_type": "code",
   "execution_count": 17,
   "metadata": {},
   "outputs": [
    {
     "data": {
      "text/plain": [
       "pn                 0.000\n",
       "rv81               0.000\n",
       "sev                2.952\n",
       "sun                2.961\n",
       "dun                2.955\n",
       "priority           2.960\n",
       "vul                0.000\n",
       "sip                0.000\n",
       "dip                0.000\n",
       "shn                0.000\n",
       "dhn                0.000\n",
       "sp                 0.000\n",
       "dp                 0.000\n",
       "prot               0.000\n",
       "rv36               0.000\n",
       "owner              0.000\n",
       "rv29               0.000\n",
       "rv30               0.000\n",
       "xdastaxname        0.000\n",
       "xdasoutcomename    0.000\n",
       "dtype: float64"
      ]
     },
     "execution_count": 17,
     "metadata": {},
     "output_type": "execute_result"
    }
   ],
   "source": [
    "#Check the columns and null percentage after removing unwanted columns\n",
    "\n",
    "alerts.isnull().sum()/alerts.shape[0]*100"
   ]
  },
  {
   "cell_type": "code",
   "execution_count": 18,
   "metadata": {},
   "outputs": [
    {
     "data": {
      "text/html": [
       "<div>\n",
       "<table border=\"1\" class=\"dataframe\">\n",
       "  <thead>\n",
       "    <tr style=\"text-align: right;\">\n",
       "      <th></th>\n",
       "      <th>sev</th>\n",
       "      <th>priority</th>\n",
       "      <th>vul</th>\n",
       "    </tr>\n",
       "  </thead>\n",
       "  <tbody>\n",
       "    <tr>\n",
       "      <th>count</th>\n",
       "      <td>97048.000000</td>\n",
       "      <td>97040.000000</td>\n",
       "      <td>100000.000000</td>\n",
       "    </tr>\n",
       "    <tr>\n",
       "      <th>mean</th>\n",
       "      <td>2.735584</td>\n",
       "      <td>49.079555</td>\n",
       "      <td>0.503080</td>\n",
       "    </tr>\n",
       "    <tr>\n",
       "      <th>std</th>\n",
       "      <td>1.458844</td>\n",
       "      <td>33.358748</td>\n",
       "      <td>0.499993</td>\n",
       "    </tr>\n",
       "    <tr>\n",
       "      <th>min</th>\n",
       "      <td>0.000000</td>\n",
       "      <td>0.000000</td>\n",
       "      <td>0.000000</td>\n",
       "    </tr>\n",
       "    <tr>\n",
       "      <th>25%</th>\n",
       "      <td>2.000000</td>\n",
       "      <td>20.000000</td>\n",
       "      <td>0.000000</td>\n",
       "    </tr>\n",
       "    <tr>\n",
       "      <th>50%</th>\n",
       "      <td>3.000000</td>\n",
       "      <td>50.000000</td>\n",
       "      <td>1.000000</td>\n",
       "    </tr>\n",
       "    <tr>\n",
       "      <th>75%</th>\n",
       "      <td>4.000000</td>\n",
       "      <td>80.000000</td>\n",
       "      <td>1.000000</td>\n",
       "    </tr>\n",
       "    <tr>\n",
       "      <th>max</th>\n",
       "      <td>5.000000</td>\n",
       "      <td>100.000000</td>\n",
       "      <td>1.000000</td>\n",
       "    </tr>\n",
       "  </tbody>\n",
       "</table>\n",
       "</div>"
      ],
      "text/plain": [
       "                sev      priority            vul\n",
       "count  97048.000000  97040.000000  100000.000000\n",
       "mean       2.735584     49.079555       0.503080\n",
       "std        1.458844     33.358748       0.499993\n",
       "min        0.000000      0.000000       0.000000\n",
       "25%        2.000000     20.000000       0.000000\n",
       "50%        3.000000     50.000000       1.000000\n",
       "75%        4.000000     80.000000       1.000000\n",
       "max        5.000000    100.000000       1.000000"
      ]
     },
     "execution_count": 18,
     "metadata": {},
     "output_type": "execute_result"
    }
   ],
   "source": [
    "#Having a look at numerical values.\n",
    "\n",
    "alerts.describe()"
   ]
  },
  {
   "cell_type": "code",
   "execution_count": 19,
   "metadata": {},
   "outputs": [
    {
     "name": "stderr",
     "output_type": "stream",
     "text": [
      "D:\\Tools\\Anaconda\\lib\\site-packages\\seaborn\\categorical.py:2171: UserWarning: The boxplot API has been changed. Attempting to adjust your arguments for the new API (which might not work). Please update your code. See the version 0.6 release notes for more info.\n",
      "  warnings.warn(msg, UserWarning)\n"
     ]
    },
    {
     "data": {
      "text/plain": [
       "<matplotlib.axes._subplots.AxesSubplot at 0x4e46898>"
      ]
     },
     "execution_count": 19,
     "metadata": {},
     "output_type": "execute_result"
    },
    {
     "data": {
      "image/png": "[encoded data removed]",
      "text/plain": [
       "<matplotlib.figure.Figure at 0x1209ff98>"
      ]
     },
     "metadata": {},
     "output_type": "display_data"
    }
   ],
   "source": [
    "#Boxplot to check if there are any outliers\n",
    "\n",
    "sns.boxplot(alerts.select_dtypes(exclude=[np.object]))"
   ]
  },
  {
   "cell_type": "code",
   "execution_count": 20,
   "metadata": {},
   "outputs": [
    {
     "data": {
      "text/plain": [
       "<seaborn.axisgrid.PairGrid at 0x45fc7400>"
      ]
     },
     "execution_count": 20,
     "metadata": {},
     "output_type": "execute_result"
    },
    {
     "data": {
      "image/png": "[encoded data removed]",
      "text/plain": [
       "<matplotlib.figure.Figure at 0x45fc7048>"
      ]
     },
     "metadata": {},
     "output_type": "display_data"
    }
   ],
   "source": [
    "#See if there is a collinearity\n",
    "\n",
    "sns.pairplot(alerts[['vul', 'priority', 'sev']].dropna())"
   ]
  },
  {
   "cell_type": "code",
   "execution_count": 21,
   "metadata": {},
   "outputs": [
    {
     "data": {
      "text/html": [
       "<div>\n",
       "<table border=\"1\" class=\"dataframe\">\n",
       "  <thead>\n",
       "    <tr style=\"text-align: right;\">\n",
       "      <th></th>\n",
       "      <th>pn</th>\n",
       "      <th>rv81</th>\n",
       "      <th>sun</th>\n",
       "      <th>dun</th>\n",
       "      <th>sip</th>\n",
       "      <th>dip</th>\n",
       "      <th>shn</th>\n",
       "      <th>dhn</th>\n",
       "      <th>sp</th>\n",
       "      <th>dp</th>\n",
       "      <th>prot</th>\n",
       "      <th>rv36</th>\n",
       "      <th>owner</th>\n",
       "      <th>rv29</th>\n",
       "      <th>rv30</th>\n",
       "      <th>xdastaxname</th>\n",
       "      <th>xdasoutcomename</th>\n",
       "    </tr>\n",
       "  </thead>\n",
       "  <tbody>\n",
       "    <tr>\n",
       "      <th>count</th>\n",
       "      <td>100000</td>\n",
       "      <td>100000</td>\n",
       "      <td>97039</td>\n",
       "      <td>97045</td>\n",
       "      <td>100000</td>\n",
       "      <td>100000</td>\n",
       "      <td>100000</td>\n",
       "      <td>100000</td>\n",
       "      <td>100000</td>\n",
       "      <td>100000</td>\n",
       "      <td>100000</td>\n",
       "      <td>100000</td>\n",
       "      <td>100000</td>\n",
       "      <td>100000</td>\n",
       "      <td>100000</td>\n",
       "      <td>100000</td>\n",
       "      <td>100000</td>\n",
       "    </tr>\n",
       "    <tr>\n",
       "      <th>unique</th>\n",
       "      <td>8</td>\n",
       "      <td>7</td>\n",
       "      <td>6</td>\n",
       "      <td>6</td>\n",
       "      <td>10</td>\n",
       "      <td>10</td>\n",
       "      <td>10</td>\n",
       "      <td>8</td>\n",
       "      <td>5</td>\n",
       "      <td>5</td>\n",
       "      <td>8</td>\n",
       "      <td>9</td>\n",
       "      <td>5</td>\n",
       "      <td>4</td>\n",
       "      <td>5</td>\n",
       "      <td>12</td>\n",
       "      <td>12</td>\n",
       "    </tr>\n",
       "    <tr>\n",
       "      <th>top</th>\n",
       "      <td>fortinet fortigate</td>\n",
       "      <td>blade server</td>\n",
       "      <td>pci-admin</td>\n",
       "      <td>pci-admin</td>\n",
       "      <td>1.0.76.179</td>\n",
       "      <td>164.99.175.227</td>\n",
       "      <td>fw-redebanweb</td>\n",
       "      <td>hostd-03-oracle.com</td>\n",
       "      <td>dns</td>\n",
       "      <td>asa</td>\n",
       "      <td>spx</td>\n",
       "      <td>event-source-server</td>\n",
       "      <td>103</td>\n",
       "      <td>de</td>\n",
       "      <td>uk</td>\n",
       "      <td>xdas_ae_delete_account</td>\n",
       "      <td>xdas_out_denial</td>\n",
       "    </tr>\n",
       "    <tr>\n",
       "      <th>freq</th>\n",
       "      <td>19969</td>\n",
       "      <td>20123</td>\n",
       "      <td>19713</td>\n",
       "      <td>29021</td>\n",
       "      <td>20020</td>\n",
       "      <td>20000</td>\n",
       "      <td>26706</td>\n",
       "      <td>23287</td>\n",
       "      <td>30088</td>\n",
       "      <td>39845</td>\n",
       "      <td>20000</td>\n",
       "      <td>20000</td>\n",
       "      <td>20000</td>\n",
       "      <td>40021</td>\n",
       "      <td>29932</td>\n",
       "      <td>10166</td>\n",
       "      <td>10026</td>\n",
       "    </tr>\n",
       "  </tbody>\n",
       "</table>\n",
       "</div>"
      ],
      "text/plain": [
       "                        pn          rv81        sun        dun         sip  \\\n",
       "count               100000        100000      97039      97045      100000   \n",
       "unique                   8             7          6          6          10   \n",
       "top     fortinet fortigate  blade server  pci-admin  pci-admin  1.0.76.179   \n",
       "freq                 19969         20123      19713      29021       20020   \n",
       "\n",
       "                   dip            shn                  dhn      sp      dp  \\\n",
       "count           100000         100000               100000  100000  100000   \n",
       "unique              10             10                    8       5       5   \n",
       "top     164.99.175.227  fw-redebanweb  hostd-03-oracle.com     dns     asa   \n",
       "freq             20000          26706                23287   30088   39845   \n",
       "\n",
       "          prot                 rv36   owner    rv29    rv30  \\\n",
       "count   100000               100000  100000  100000  100000   \n",
       "unique       8                    9       5       4       5   \n",
       "top        spx  event-source-server     103      de      uk   \n",
       "freq     20000                20000   20000   40021   29932   \n",
       "\n",
       "                   xdastaxname  xdasoutcomename  \n",
       "count                   100000           100000  \n",
       "unique                      12               12  \n",
       "top     xdas_ae_delete_account  xdas_out_denial  \n",
       "freq                     10166            10026  "
      ]
     },
     "execution_count": 21,
     "metadata": {},
     "output_type": "execute_result"
    }
   ],
   "source": [
    "#How categorical and string data are distributed\n",
    "\n",
    "alerts.describe(include=['O'])"
   ]
  },
  {
   "cell_type": "code",
   "execution_count": 22,
   "metadata": {},
   "outputs": [],
   "source": [
    "#alerts.head(3)"
   ]
  },
  {
   "cell_type": "code",
   "execution_count": 23,
   "metadata": {},
   "outputs": [
    {
     "data": {
      "text/html": [
       "<div>\n",
       "<table border=\"1\" class=\"dataframe\">\n",
       "  <thead>\n",
       "    <tr style=\"text-align: right;\">\n",
       "      <th>rv30</th>\n",
       "      <th>fr</th>\n",
       "      <th>it</th>\n",
       "      <th>jp</th>\n",
       "      <th>uk</th>\n",
       "      <th>us</th>\n",
       "    </tr>\n",
       "    <tr>\n",
       "      <th>owner</th>\n",
       "      <th></th>\n",
       "      <th></th>\n",
       "      <th></th>\n",
       "      <th></th>\n",
       "      <th></th>\n",
       "    </tr>\n",
       "  </thead>\n",
       "  <tbody>\n",
       "    <tr>\n",
       "      <th>101</th>\n",
       "      <td>0</td>\n",
       "      <td>9945</td>\n",
       "      <td>0</td>\n",
       "      <td>0</td>\n",
       "      <td>10055</td>\n",
       "    </tr>\n",
       "    <tr>\n",
       "      <th>102</th>\n",
       "      <td>10037</td>\n",
       "      <td>0</td>\n",
       "      <td>9963</td>\n",
       "      <td>0</td>\n",
       "      <td>0</td>\n",
       "    </tr>\n",
       "    <tr>\n",
       "      <th>103</th>\n",
       "      <td>0</td>\n",
       "      <td>0</td>\n",
       "      <td>0</td>\n",
       "      <td>20000</td>\n",
       "      <td>0</td>\n",
       "    </tr>\n",
       "    <tr>\n",
       "      <th>a05ef710-5cbe-102e-befc-0019d131a0f3</th>\n",
       "      <td>9913</td>\n",
       "      <td>10087</td>\n",
       "      <td>0</td>\n",
       "      <td>0</td>\n",
       "      <td>0</td>\n",
       "    </tr>\n",
       "    <tr>\n",
       "      <th>b96f6e09-4daf-293f-afee-b108c842b9e7</th>\n",
       "      <td>0</td>\n",
       "      <td>0</td>\n",
       "      <td>10068</td>\n",
       "      <td>9932</td>\n",
       "      <td>0</td>\n",
       "    </tr>\n",
       "  </tbody>\n",
       "</table>\n",
       "</div>"
      ],
      "text/plain": [
       "rv30                                     fr     it     jp     uk     us\n",
       "owner                                                                  \n",
       "101                                       0   9945      0      0  10055\n",
       "102                                   10037      0   9963      0      0\n",
       "103                                       0      0      0  20000      0\n",
       "a05ef710-5cbe-102e-befc-0019d131a0f3   9913  10087      0      0      0\n",
       "b96f6e09-4daf-293f-afee-b108c842b9e7      0      0  10068   9932      0"
      ]
     },
     "execution_count": 23,
     "metadata": {},
     "output_type": "execute_result"
    }
   ],
   "source": [
    "#Nothing much, just how owners of alerts have handled alerts pertaining to specific zone/region?\n",
    "\n",
    "pd.crosstab(alerts['owner'], alerts['rv30'])"
   ]
  },
  {
   "cell_type": "code",
   "execution_count": 24,
   "metadata": {},
   "outputs": [
    {
     "data": {
      "text/html": [
       "<div>\n",
       "<table border=\"1\" class=\"dataframe\">\n",
       "  <thead>\n",
       "    <tr style=\"text-align: right;\">\n",
       "      <th>rv81</th>\n",
       "      <th>blade server</th>\n",
       "      <th>desktop</th>\n",
       "      <th>laptop</th>\n",
       "      <th>rack</th>\n",
       "      <th>router</th>\n",
       "      <th>server</th>\n",
       "      <th>switch</th>\n",
       "    </tr>\n",
       "    <tr>\n",
       "      <th>owner</th>\n",
       "      <th></th>\n",
       "      <th></th>\n",
       "      <th></th>\n",
       "      <th></th>\n",
       "      <th></th>\n",
       "      <th></th>\n",
       "      <th></th>\n",
       "    </tr>\n",
       "  </thead>\n",
       "  <tbody>\n",
       "    <tr>\n",
       "      <th>101</th>\n",
       "      <td>0</td>\n",
       "      <td>0</td>\n",
       "      <td>10008</td>\n",
       "      <td>0</td>\n",
       "      <td>0</td>\n",
       "      <td>9992</td>\n",
       "      <td>0</td>\n",
       "    </tr>\n",
       "    <tr>\n",
       "      <th>102</th>\n",
       "      <td>9905</td>\n",
       "      <td>10095</td>\n",
       "      <td>0</td>\n",
       "      <td>0</td>\n",
       "      <td>0</td>\n",
       "      <td>0</td>\n",
       "      <td>0</td>\n",
       "    </tr>\n",
       "    <tr>\n",
       "      <th>103</th>\n",
       "      <td>0</td>\n",
       "      <td>0</td>\n",
       "      <td>0</td>\n",
       "      <td>6598</td>\n",
       "      <td>6778</td>\n",
       "      <td>0</td>\n",
       "      <td>6624</td>\n",
       "    </tr>\n",
       "    <tr>\n",
       "      <th>a05ef710-5cbe-102e-befc-0019d131a0f3</th>\n",
       "      <td>10218</td>\n",
       "      <td>0</td>\n",
       "      <td>0</td>\n",
       "      <td>0</td>\n",
       "      <td>0</td>\n",
       "      <td>0</td>\n",
       "      <td>9782</td>\n",
       "    </tr>\n",
       "    <tr>\n",
       "      <th>b96f6e09-4daf-293f-afee-b108c842b9e7</th>\n",
       "      <td>0</td>\n",
       "      <td>9898</td>\n",
       "      <td>10102</td>\n",
       "      <td>0</td>\n",
       "      <td>0</td>\n",
       "      <td>0</td>\n",
       "      <td>0</td>\n",
       "    </tr>\n",
       "  </tbody>\n",
       "</table>\n",
       "</div>"
      ],
      "text/plain": [
       "rv81                                  blade server  desktop  laptop  rack  \\\n",
       "owner                                                                       \n",
       "101                                              0        0   10008     0   \n",
       "102                                           9905    10095       0     0   \n",
       "103                                              0        0       0  6598   \n",
       "a05ef710-5cbe-102e-befc-0019d131a0f3         10218        0       0     0   \n",
       "b96f6e09-4daf-293f-afee-b108c842b9e7             0     9898   10102     0   \n",
       "\n",
       "rv81                                  router  server  switch  \n",
       "owner                                                         \n",
       "101                                        0    9992       0  \n",
       "102                                        0       0       0  \n",
       "103                                     6778       0    6624  \n",
       "a05ef710-5cbe-102e-befc-0019d131a0f3       0       0    9782  \n",
       "b96f6e09-4daf-293f-afee-b108c842b9e7       0       0       0  "
      ]
     },
     "execution_count": 24,
     "metadata": {},
     "output_type": "execute_result"
    }
   ],
   "source": [
    "#How owners of alerts have handled alerts pertaining to specific host types?\n",
    "\n",
    "pd.crosstab(alerts['owner'], alerts['rv81'])"
   ]
  },
  {
   "cell_type": "code",
   "execution_count": 25,
   "metadata": {},
   "outputs": [],
   "source": [
    "def predictMissingCol(colName):\n",
    "    if alerts[colName].isnull().sum() > 0:\n",
    "\n",
    "        #Fields used to predict the null values of given column\n",
    "        desired_cols = ['vul', 'pn', 'sun', 'dun', 'sip', 'dip', 'sev', 'priority']\n",
    "\n",
    "        X_train = alerts[desired_cols].copy()\n",
    "        X_test = alerts[desired_cols][alerts[colName].isnull()].copy()\n",
    "\n",
    "        X_train.dropna(axis=0, inplace=True)\n",
    "        y_train = X_train[colName]\n",
    "\n",
    "        for col in X_train.columns:\n",
    "            if col != colName:\n",
    "                #No need to remove a column for dummies as it is not regression\n",
    "                #X_test = X_test.join(pd.get_dummies(X_test[col], prefix=col).iloc[:, :-1])\n",
    "                X_train = X_train.join(pd.get_dummies(X_train[col], prefix=col))\n",
    "                X_test = X_test.join(pd.get_dummies(X_test[col], prefix=col))\n",
    "\n",
    "        X_train.drop(desired_cols, axis=1, inplace=True)\n",
    "        X_test.drop(desired_cols, axis=1, inplace=True)\n",
    "\n",
    "        clf_model = RandomForestClassifier()\n",
    "        clf_model = clf_model.fit(X_train, y_train)\n",
    "\n",
    "        print ('%s prediction score: %f' % (colName, clf_model.score(X_train, y_train)))\n",
    "\n",
    "        y_pred = clf_model.predict(X_test)\n",
    "        alerts[colName][alerts[colName].isnull()] = y_pred\n",
    "        print ('Predicted %d null values for %s column.' % (y_pred.shape[0], colName))\n",
    "        print ()\n"
   ]
  },
  {
   "cell_type": "code",
   "execution_count": 26,
   "metadata": {},
   "outputs": [
    {
     "name": "stdout",
     "output_type": "stream",
     "text": [
      "sev prediction score: 0.394497\n",
      "Predicted 2952 null values for sev column.\n",
      "\n",
      "sun prediction score: 0.551401\n",
      "Predicted 2961 null values for sun column.\n",
      "\n",
      "dun prediction score: 0.556548\n",
      "Predicted 2955 null values for dun column.\n",
      "\n",
      "priority prediction score: 0.561078\n",
      "Predicted 2960 null values for priority column.\n",
      "\n"
     ]
    }
   ],
   "source": [
    "#Predict the suitable values for nulls to be filled based on the available information\n",
    "\n",
    "predictMissingCol('sev')\n",
    "predictMissingCol('sun')\n",
    "predictMissingCol('dun')\n",
    "predictMissingCol('priority')"
   ]
  },
  {
   "cell_type": "code",
   "execution_count": 27,
   "metadata": {},
   "outputs": [
    {
     "name": "stdout",
     "output_type": "stream",
     "text": [
      "<class 'pandas.core.frame.DataFrame'>\n",
      "RangeIndex: 100000 entries, 0 to 99999\n",
      "Data columns (total 20 columns):\n",
      "pn                 100000 non-null object\n",
      "rv81               100000 non-null object\n",
      "sev                100000 non-null float64\n",
      "sun                100000 non-null object\n",
      "dun                100000 non-null object\n",
      "priority           100000 non-null float64\n",
      "vul                100000 non-null int64\n",
      "sip                100000 non-null object\n",
      "dip                100000 non-null object\n",
      "shn                100000 non-null object\n",
      "dhn                100000 non-null object\n",
      "sp                 100000 non-null object\n",
      "dp                 100000 non-null object\n",
      "prot               100000 non-null object\n",
      "rv36               100000 non-null object\n",
      "owner              100000 non-null object\n",
      "rv29               100000 non-null object\n",
      "rv30               100000 non-null object\n",
      "xdastaxname        100000 non-null object\n",
      "xdasoutcomename    100000 non-null object\n",
      "dtypes: float64(2), int64(1), object(17)\n",
      "memory usage: 15.3+ MB\n"
     ]
    }
   ],
   "source": [
    "#Confirm all NaN are filled\n",
    "\n",
    "alerts.info()"
   ]
  },
  {
   "cell_type": "code",
   "execution_count": 28,
   "metadata": {},
   "outputs": [],
   "source": [
    "#Before getting ahead, we need to chanage columns to proper dtype.\n",
    "\n",
    "'''\n",
    "alerts['pn'] = pd.Categorical(alerts['pn'])\n",
    "alerts['rv81'] = pd.Categorical(alerts['rv81'])\n",
    "alerts['sev'] = pd.Categorical(alerts['sev'], categories=[0, 1, 2, 3, 4, 5], ordered=True)\n",
    "alerts['sun'] = pd.Categorical(alerts['sun'])\n",
    "alerts['dun'] = pd.Categorical(alerts['dun'])\n",
    "alerts['priority'] = pd.Categorical(alerts['priority'], categories=[0, 20, 50, 80, 100], ordered=True)\n",
    "alerts['vul'] = pd.Categorical(alerts['vul'], categories=[0, 1])\n",
    "alerts['sip'] = pd.Categorical(alerts['sip'])\n",
    "alerts['dip'] = pd.Categorical(alerts['dip'])\n",
    "alerts['shn'] = pd.Categorical(alerts['shn'])\n",
    "alerts['dhn'] = pd.Categorical(alerts['dhn'])\n",
    "alerts['sp'] = pd.Categorical(alerts['sp'])\n",
    "alerts['dp'] = pd.Categorical(alerts['dp'])\n",
    "alerts['prot'] = pd.Categorical(alerts['prot'])\n",
    "alerts['fn'] = pd.Categorical(alerts['fn'])\n",
    "alerts['rv36'] = pd.Categorical(alerts['rv36'])\n",
    "alerts['tds'] = pd.Categorical(alerts['tds'])\n",
    "alerts['rv29'] = pd.Categorical(alerts['rv29'])\n",
    "alerts['rv30'] = pd.Categorical(alerts['rv30'])\n",
    "alerts['xdastaxname'] = pd.Categorical(alerts['xdastaxname'])\n",
    "alerts['xdasoutcomename'] = pd.Categorical(alerts['xdasoutcomename'])\n",
    "'''\n",
    "\n",
    "def convertToCategorical():\n",
    "    for col in alerts.columns:\n",
    "        if col == 'sev':\n",
    "            alerts['sev'] = pd.Categorical(alerts['sev'], categories=[0, 1, 2, 3, 4, 5], ordered=True)\n",
    "        elif col == 'priority':\n",
    "            alerts['priority'] = pd.Categorical(alerts['priority'], categories=[0, 20, 50, 80, 100], ordered=True)\n",
    "        elif col == 'vul':\n",
    "            alerts['vul'] = pd.Categorical(alerts['vul'], categories=[0, 1])\n",
    "        else:\n",
    "            alerts[col] = pd.Categorical(alerts[col])\n",
    "\n",
    "#convertToCategorical()"
   ]
  },
  {
   "cell_type": "code",
   "execution_count": 29,
   "metadata": {},
   "outputs": [],
   "source": [
    "#Convert categorical columns to OneHotEncoding\n",
    "\n",
    "def colsToDummies(tmp_alerts):\n",
    "    X = pd.DataFrame()\n",
    "\n",
    "    for col in tmp_alerts.columns:\n",
    "        if (tmp_alerts[col].dtype == np.object):\n",
    "            X = pd.concat([X, pd.get_dummies(tmp_alerts[col], prefix=col)], axis=1)\n",
    "        elif (tmp_alerts[col].dtype != np.object):\n",
    "            X = pd.concat([X, tmp_alerts[col]], axis=1)\n",
    "\n",
    "    return X\n"
   ]
  },
  {
   "cell_type": "code",
   "execution_count": 30,
   "metadata": {},
   "outputs": [],
   "source": [
    "#Categoricals to numerical encoding but each column having its own encoder.\n",
    "\n",
    "def colsIndependentLabelEncode(tmp_alerts):\n",
    "    X = tmp_alerts.select_dtypes(include=[np.object]).copy()\n",
    "\n",
    "    X = X.apply(LabelEncoder().fit_transform)\n",
    "    X = pd.concat([X, tmp_alerts.select_dtypes(exclude=[np.object])], axis=1)\n",
    "\n",
    "    return X"
   ]
  },
  {
   "cell_type": "code",
   "execution_count": 31,
   "metadata": {},
   "outputs": [],
   "source": [
    "#Convert categorical columns to numerical encoding\n",
    "#One encoder for sip/dip, shn/dhn etc pair\n",
    "\n",
    "def colsLabelEncode(tmp_alerts):\n",
    "    X = pd.DataFrame()\n",
    "    le_dict = {}\n",
    "\n",
    "    for col in tmp_alerts.columns:\n",
    "        if col in ['sun', 'dun']:\n",
    "            if 'user_name' not in le_dict:\n",
    "                le_dict['user_name'] = LabelEncoder()\n",
    "                le_dict['user_name'].fit(pd.unique(tmp_alerts[['sun', 'dun']].values.ravel()))\n",
    "                X[col] = le_dict['user_name'].transform(tmp_alerts[col])\n",
    "            else:\n",
    "                X[col] = le_dict['user_name'].transform(tmp_alerts[col])\n",
    "        elif col in ['sip', 'dip']:\n",
    "            if 'ip' not in le_dict:\n",
    "                le_dict['ip'] = LabelEncoder()\n",
    "                le_dict['ip'].fit(pd.unique(tmp_alerts[['sip', 'dip']].values.ravel()))\n",
    "                X[col] = le_dict['ip'].transform(tmp_alerts[col])\n",
    "            else:\n",
    "                X[col] = le_dict['ip'].transform(tmp_alerts[col])\n",
    "        elif col in ['shn', 'dhn']:\n",
    "            if 'host_name' not in le_dict:\n",
    "                le_dict['host_name'] = LabelEncoder()\n",
    "                le_dict['host_name'].fit(pd.unique(tmp_alerts[['shn', 'dhn']].values.ravel()))\n",
    "                X[col] = le_dict['host_name'].transform(tmp_alerts[col])\n",
    "            else:\n",
    "                X[col] = le_dict['host_name'].transform(tmp_alerts[col])\n",
    "        elif col in ['sp', 'dp']:\n",
    "            if 'process' not in le_dict:\n",
    "                le_dict['process'] = LabelEncoder()\n",
    "                le_dict['process'].fit(pd.unique(tmp_alerts[['sp', 'dp']].values.ravel()))\n",
    "                X[col] = le_dict['process'].transform(tmp_alerts[col])\n",
    "            else:\n",
    "                X[col] = le_dict['process'].transform(tmp_alerts[col])\n",
    "        elif col in ['rv29', 'rv30']:\n",
    "            if 'host_country' not in le_dict:\n",
    "                le_dict['host_country'] = LabelEncoder()\n",
    "                le_dict['host_country'].fit(pd.unique(tmp_alerts[['rv29', 'rv30']].values.ravel()))\n",
    "                X[col] = le_dict['host_country'].transform(tmp_alerts[col])\n",
    "            else:\n",
    "                X[col] = le_dict['host_country'].transform(tmp_alerts[col])\n",
    "        else:\n",
    "            if tmp_alerts[col].dtype == np.object:\n",
    "                le_dict[col] = LabelEncoder()\n",
    "                X[col] = le_dict[col].fit_transform(tmp_alerts[col])\n",
    "            else:\n",
    "                X = pd.concat([X, tmp_alerts[col]], axis=1)\n",
    "\n",
    "    return X    \n"
   ]
  },
  {
   "cell_type": "code",
   "execution_count": 32,
   "metadata": {},
   "outputs": [],
   "source": [
    "def createXy(colName, ohOrEncode='encode'):\n",
    "\n",
    "    #Get the output variable separate\n",
    "    y = alerts[colName].copy()\n",
    "\n",
    "    #unwanted_cols = ['dun', 'dip', 'dhn', 'dp', 'sp', 'fn', 'tds', 'rv30']\n",
    "    #final_alerts = alerts.drop(unwanted_cols, axis=1)\n",
    "\n",
    "    #For testing purpose: Creating copy as not to loose all the transformations applied on original alerts.\n",
    "    final_alerts = alerts.copy()\n",
    "    final_alerts.drop(colName, axis=1, inplace=True)\n",
    "\n",
    "    if (ohOrEncode == 'encode'):\n",
    "        X = colsLabelEncode(final_alerts)\n",
    "    elif (ohOrEncode == 'dummies'):\n",
    "        X = colsToDummies(final_alerts)\n",
    "    elif (ohOrEncode == 'independentLabel-encode'):\n",
    "        X = colsIndependentLabelEncode(final_alerts)\n",
    "\n",
    "    return (X, y)"
   ]
  },
  {
   "cell_type": "code",
   "execution_count": 33,
   "metadata": {
    "collapsed": true
   },
   "outputs": [],
   "source": [
    "def predict(colName, ohOrEncode='encode'):\n",
    "    X, y = createXy(colName, ohOrEncode=ohOrEncode)\n",
    "\n",
    "    print ('X contains rows/cols: ', X.shape)\n",
    "    print ('X columns: ', X.columns)\n",
    "    #print (X.head(3))\n",
    "\n",
    "    X_train, X_test, y_train, y_test = train_test_split(X, y)\n",
    "\n",
    "    #fold = KFold(n_splits=3, random_state=0)\n",
    "    split = StratifiedKFold(n_splits=5)\n",
    "\n",
    "    rf = RandomForestClassifier(n_estimators=10)\n",
    "    ada = AdaBoostClassifier(n_estimators=10)\n",
    "    gb = GradientBoostingClassifier(n_estimators=10)\n",
    "    xtra_tree = ExtraTreesClassifier()\n",
    "    dec_tree = DecisionTreeClassifier()\n",
    "    knn = KNeighborsClassifier()\n",
    "\n",
    "    classifiers = {\n",
    "        'rf': rf,\n",
    "        'ada': ada,\n",
    "        'gb': gb\n",
    "        #'xtra_tree': xtra_tree\n",
    "        #'dec_tree': dec_tree\n",
    "        #'knn' : knn\n",
    "    }\n",
    "\n",
    "    t0 = time()\n",
    "    cv_mean_scores = []\n",
    "    for clf_name, clf in classifiers.items():\n",
    "        cv_score = cross_val_score(clf, X_train, y_train, cv=split)\n",
    "        cv_mean_scores.append(cv_score.mean()*100)\n",
    "\n",
    "    rf = rf.fit(X_train, y_train)\n",
    "    y_pred = rf.predict(X_test)\n",
    "    y_pred_prob = rf.predict_proba(X_test)\n",
    "    y_pred_log_prob = rf.predict_log_proba(X_test)\n",
    "\n",
    "    print ()\n",
    "    print(\"took %0.3fs.\" % (time() - t0))\n",
    "    print ()\n",
    "\n",
    "    print ('cross validation score of each classifier: ', cv_mean_scores)\n",
    "    print ('--'*35)\n",
    "    print ('confusion_matrix of RandomForest classifier')\n",
    "    print ()\n",
    "    print (confusion_matrix(y_pred=y_pred, y_true=y_test))\n",
    "    print ('--'*35)\n",
    "\n",
    "    sns.barplot(list(classifiers.keys()), cv_mean_scores)"
   ]
  },
  {
   "cell_type": "code",
   "execution_count": 34,
   "metadata": {},
   "outputs": [
    {
     "name": "stdout",
     "output_type": "stream",
     "text": [
      "X contains rows/cols:  (100000, 19)\n",
      "X columns:  Index(['pn', 'rv81', 'sev', 'sun', 'dun', 'priority', 'vul', 'sip', 'dip',\n",
      "       'shn', 'dhn', 'sp', 'dp', 'prot', 'rv36', 'rv29', 'rv30', 'xdastaxname',\n",
      "       'xdasoutcomename'],\n",
      "      dtype='object')\n",
      "\n",
      "took 24.653s.\n",
      "\n",
      "cross validation score of each classifier:  [100.0, 80.04933344017778, 100.0]\n",
      "----------------------------------------------------------------------\n",
      "confusion_matrix of RandomForest classifier\n",
      "\n",
      "[[5000    0    0    0    0]\n",
      " [   0 5037    0    0    0]\n",
      " [   0    0 5000    0    0]\n",
      " [   0    0    0 4930    0]\n",
      " [   0    0    0    0 5033]]\n",
      "----------------------------------------------------------------------\n"
     ]
    },
    {
     "name": "stderr",
     "output_type": "stream",
     "text": [
      "D:\\Tools\\Anaconda\\lib\\site-packages\\sklearn\\ensemble\\forest.py:628: RuntimeWarning: divide by zero encountered in log\n",
      "  return np.log(proba)\n"
     ]
    },
    {
     "data": {
      "image/png": "[encoded data removed]",
      "text/plain": [
       "<matplotlib.figure.Figure at 0x4a8465c0>"
      ]
     },
     "metadata": {},
     "output_type": "display_data"
    }
   ],
   "source": [
    "#Lets predict the owner for test data based on the learning on training data\n",
    "\n",
    "predict('owner', ohOrEncode='encode')"
   ]
  },
  {
   "cell_type": "code",
   "execution_count": null,
   "metadata": {
    "collapsed": true
   },
   "outputs": [],
   "source": []
  },
  {
   "cell_type": "code",
   "execution_count": 35,
   "metadata": {},
   "outputs": [
    {
     "name": "stdout",
     "output_type": "stream",
     "text": [
      "X contains rows/cols:  (100000, 19)\n",
      "X columns:  Index(['pn', 'rv81', 'sev', 'sun', 'dun', 'vul', 'sip', 'dip', 'shn', 'dhn',\n",
      "       'sp', 'dp', 'prot', 'rv36', 'owner', 'rv29', 'rv30', 'xdastaxname',\n",
      "       'xdasoutcomename'],\n",
      "      dtype='object')\n",
      "\n",
      "took 21.658s.\n",
      "\n",
      "cross validation score of each classifier:  [50.47866524806498, 49.93734693285935, 49.74267173195857]\n",
      "----------------------------------------------------------------------\n",
      "confusion_matrix of RandomForest classifier\n",
      "\n",
      "[[1352 1116    0    0    0]\n",
      " [1376 4149 2023    0    0]\n",
      " [   0 2915 3504    0 1022]\n",
      " [   0    0    0 1428 1074]\n",
      " [   0    0 1438 1374 2229]]\n",
      "----------------------------------------------------------------------\n"
     ]
    },
    {
     "name": "stderr",
     "output_type": "stream",
     "text": [
      "D:\\Tools\\Anaconda\\lib\\site-packages\\sklearn\\ensemble\\forest.py:628: RuntimeWarning: divide by zero encountered in log\n",
      "  return np.log(proba)\n"
     ]
    },
    {
     "data": {
      "image/png": "[encoded data removed]",
      "text/plain": [
       "<matplotlib.figure.Figure at 0x4a78b668>"
      ]
     },
     "metadata": {},
     "output_type": "display_data"
    }
   ],
   "source": [
    "#Lets predict the owner for test data based on the learning on training data\n",
    "\n",
    "predict('priority', ohOrEncode='encode')"
   ]
  },
  {
   "cell_type": "code",
   "execution_count": null,
   "metadata": {},
   "outputs": [],
   "source": []
  },
  {
   "cell_type": "code",
   "execution_count": null,
   "metadata": {
    "collapsed": true
   },
   "outputs": [],
   "source": []
  },
  {
   "cell_type": "code",
   "execution_count": 36,
   "metadata": {},
   "outputs": [
    {
     "data": {
      "text/plain": [
       "\"\\ngs_rf_params = [{\\n    'n_estimators':[50, 100, 150],\\n    'criterion': ['entropy', 'gini'],\\n    'max_features':[5, 'auto', 'log2'],\\n    'min_samples_split':[5, 10, 15],\\n    'min_samples_leaf':[2],\\n    'bootstrap' : [True, False], \\n    'n_jobs':[-1],\\n    'oob_score':[True],\\n    'warm_start': [True, False]\\n}]\\n\\ngs_rf = GridSearchCV(estimator=RandomForestClassifier(), param_grid=gs_rf_params, cv=split)\\ngs_rf.fit(X_train, y_train)\\n\\nrf_best_params = gs_rf.best_params_\\nrf_best_score = gs_rf.best_score_\\nrf_best = gs_rf.best_estimator_\\n\\nprint (rf_best_params)\\nprint (rf_best_score)\\nprint (rf_best)\\n\""
      ]
     },
     "execution_count": 36,
     "metadata": {},
     "output_type": "execute_result"
    }
   ],
   "source": [
    "#Tuning RandomForest hyper parameters\n",
    "\n",
    "'''\n",
    "gs_rf_params = [{\n",
    "    'n_estimators':[50, 100, 150],\n",
    "    'criterion': ['entropy', 'gini'],\n",
    "    'max_features':[5, 'auto', 'log2'],\n",
    "    'min_samples_split':[5, 10, 15],\n",
    "    'min_samples_leaf':[2],\n",
    "    'bootstrap' : [True, False], \n",
    "    'n_jobs':[-1],\n",
    "    'oob_score':[True],\n",
    "    'warm_start': [True, False]\n",
    "}]\n",
    "\n",
    "gs_rf = GridSearchCV(estimator=RandomForestClassifier(), param_grid=gs_rf_params, cv=split)\n",
    "gs_rf.fit(X_train, y_train)\n",
    "\n",
    "rf_best_params = gs_rf.best_params_\n",
    "rf_best_score = gs_rf.best_score_\n",
    "rf_best = gs_rf.best_estimator_\n",
    "\n",
    "print (rf_best_params)\n",
    "print (rf_best_score)\n",
    "print (rf_best)\n",
    "'''"
   ]
  },
  {
   "cell_type": "code",
   "execution_count": null,
   "metadata": {},
   "outputs": [],
   "source": []
  },
  {
   "cell_type": "code",
   "execution_count": null,
   "metadata": {
    "collapsed": true
   },
   "outputs": [],
   "source": []
  },
  {
   "cell_type": "code",
   "execution_count": null,
   "metadata": {
    "collapsed": true
   },
   "outputs": [],
   "source": []
  },
  {
   "cell_type": "code",
   "execution_count": null,
   "metadata": {
    "collapsed": true
   },
   "outputs": [],
   "source": []
  },
  {
   "cell_type": "code",
   "execution_count": null,
   "metadata": {
    "collapsed": true
   },
   "outputs": [],
   "source": []
  }
 ],
 "metadata": {
  "kernelspec": {
   "display_name": "Python 3",
   "language": "python",
   "name": "python3"
  },
  "language_info": {
   "codemirror_mode": {
    "name": "ipython",
    "version": 3
   },
   "file_extension": ".py",
   "mimetype": "text/x-python",
   "name": "python",
   "nbconvert_exporter": "python",
   "pygments_lexer": "ipython3",
   "version": "3.6.5"
  }
 },
 "nbformat": 4,
 "nbformat_minor": 2
}
